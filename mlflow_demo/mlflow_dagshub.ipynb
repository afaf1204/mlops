{
 "cells": [
  {
   "cell_type": "markdown",
   "metadata": {},
   "source": [
    "# ML Flow Dagshub Tutorial"
   ]
  },
  {
   "cell_type": "code",
   "execution_count": 1,
   "metadata": {},
   "outputs": [],
   "source": [
    "import numpy as np\n",
    "from sklearn.datasets import make_classification\n",
    "from sklearn.model_selection import train_test_split\n",
    "from sklearn.linear_model import LogisticRegression\n",
    "from sklearn.ensemble import RandomForestClassifier\n",
    "from xgboost import XGBClassifier\n",
    "from sklearn.metrics import classification_report\n",
    "import warnings\n",
    "warnings.filterwarnings('ignore')"
   ]
  },
  {
   "cell_type": "code",
   "execution_count": 2,
   "metadata": {},
   "outputs": [
    {
     "data": {
      "text/plain": [
       "(array([0, 1]), array([900, 100]))"
      ]
     },
     "execution_count": 2,
     "metadata": {},
     "output_type": "execute_result"
    }
   ],
   "source": [
    "# Step 1: Create an imbalanced binary classification dataset\n",
    "X, y = make_classification(n_samples=1000, n_features=10, n_informative=2, n_redundant=8, \n",
    "                           weights=[0.9, 0.1], flip_y=0, random_state=42)\n",
    "\n",
    "np.unique(y, return_counts=True)"
   ]
  },
  {
   "cell_type": "code",
   "execution_count": 3,
   "metadata": {},
   "outputs": [],
   "source": [
    "# Split the dataset into training and testing sets\n",
    "X_train, X_test, y_train, y_test = train_test_split(X, y, test_size=0.3, stratify=y, random_state=42)"
   ]
  },
  {
   "cell_type": "markdown",
   "metadata": {},
   "source": [
    "## Handle class imbalance"
   ]
  },
  {
   "cell_type": "code",
   "execution_count": 4,
   "metadata": {},
   "outputs": [
    {
     "data": {
      "text/plain": [
       "(array([0, 1]), array([619, 619]))"
      ]
     },
     "execution_count": 4,
     "metadata": {},
     "output_type": "execute_result"
    }
   ],
   "source": [
    "from imblearn.combine import SMOTETomek\n",
    "\n",
    "smt = SMOTETomek(random_state=42)\n",
    "X_train_res, y_train_res = smt.fit_resample(X_train, y_train)\n",
    "np.unique(y_train_res, return_counts=True)"
   ]
  },
  {
   "cell_type": "markdown",
   "metadata": {},
   "source": [
    "## Track Experiments"
   ]
  },
  {
   "cell_type": "code",
   "execution_count": 5,
   "metadata": {},
   "outputs": [],
   "source": [
    "models = [\n",
    "    (\n",
    "        \"Logistic Regression\", \n",
    "        {\"C\": 1, \"solver\": 'liblinear'},\n",
    "        LogisticRegression(), \n",
    "        (X_train, y_train),\n",
    "        (X_test, y_test)\n",
    "    ),\n",
    "    (\n",
    "        \"Random Forest\", \n",
    "        {\"n_estimators\": 30, \"max_depth\": 3},\n",
    "        RandomForestClassifier(), \n",
    "        (X_train, y_train),\n",
    "        (X_test, y_test)\n",
    "    ),\n",
    "    (\n",
    "        \"XGBClassifier\",\n",
    "        {\"use_label_encoder\": False, \"eval_metric\": 'logloss'},\n",
    "        XGBClassifier(), \n",
    "        (X_train, y_train),\n",
    "        (X_test, y_test)\n",
    "    ),\n",
    "    (\n",
    "        \"XGBClassifier With SMOTE\",\n",
    "        {\"use_label_encoder\": False, \"eval_metric\": 'logloss'},\n",
    "        XGBClassifier(), \n",
    "        (X_train_res, y_train_res),\n",
    "        (X_test, y_test)\n",
    "    )\n",
    "]"
   ]
  },
  {
   "cell_type": "code",
   "execution_count": 6,
   "metadata": {},
   "outputs": [],
   "source": [
    "reports = []\n",
    "\n",
    "for model_name, params, model, train_set, test_set in models:\n",
    "    X_train = train_set[0]\n",
    "    y_train = train_set[1]\n",
    "    X_test = test_set[0]\n",
    "    y_test = test_set[1]\n",
    "    \n",
    "    model.set_params(**params)\n",
    "    model.fit(X_train, y_train)\n",
    "    y_pred = model.predict(X_test)\n",
    "    report = classification_report(y_test, y_pred, output_dict=True)\n",
    "    reports.append(report)"
   ]
  },
  {
   "cell_type": "code",
   "execution_count": 7,
   "metadata": {},
   "outputs": [],
   "source": [
    "import mlflow\n",
    "import mlflow.sklearn\n",
    "import mlflow.xgboost"
   ]
  },
  {
   "cell_type": "code",
   "execution_count": 8,
   "metadata": {},
   "outputs": [
    {
     "name": "stdout",
     "output_type": "stream",
     "text": [
      "Collecting dagshubNote: you may need to restart the kernel to use updated packages.\n",
      "\n",
      "  Downloading dagshub-0.5.1-py3-none-any.whl.metadata (12 kB)\n",
      "Requirement already satisfied: PyYAML>=5 in c:\\users\\user\\appdata\\local\\programs\\python\\python312\\lib\\site-packages (from dagshub) (6.0.2)\n",
      "Requirement already satisfied: appdirs>=1.4.4 in c:\\users\\user\\appdata\\local\\programs\\python\\python312\\lib\\site-packages (from dagshub) (1.4.4)\n",
      "Requirement already satisfied: click>=8.0.4 in c:\\users\\user\\appdata\\local\\programs\\python\\python312\\lib\\site-packages (from dagshub) (8.1.8)\n",
      "Collecting httpx>=0.23.0 (from dagshub)\n",
      "  Downloading httpx-0.28.1-py3-none-any.whl.metadata (7.1 kB)\n",
      "Requirement already satisfied: GitPython>=3.1.29 in c:\\users\\user\\appdata\\local\\programs\\python\\python312\\lib\\site-packages (from dagshub) (3.1.44)\n",
      "Requirement already satisfied: rich>=13.1.0 in c:\\users\\user\\appdata\\local\\programs\\python\\python312\\lib\\site-packages (from dagshub) (13.9.4)\n",
      "Collecting dacite~=1.6.0 (from dagshub)\n",
      "  Downloading dacite-1.6.0-py3-none-any.whl.metadata (14 kB)\n",
      "Collecting tenacity>=8.2.2 (from dagshub)\n",
      "  Downloading tenacity-9.0.0-py3-none-any.whl.metadata (1.2 kB)\n",
      "Collecting gql[requests] (from dagshub)\n",
      "  Downloading gql-3.5.0-py2.py3-none-any.whl.metadata (9.2 kB)\n",
      "Collecting dataclasses-json (from dagshub)\n",
      "  Downloading dataclasses_json-0.6.7-py3-none-any.whl.metadata (25 kB)\n",
      "Requirement already satisfied: pandas in c:\\users\\user\\appdata\\local\\programs\\python\\python312\\lib\\site-packages (from dagshub) (2.2.3)\n",
      "Collecting treelib>=1.6.4 (from dagshub)\n",
      "  Downloading treelib-1.7.0-py3-none-any.whl.metadata (1.3 kB)\n",
      "Collecting pathvalidate>=3.0.0 (from dagshub)\n",
      "  Downloading pathvalidate-3.2.3-py3-none-any.whl.metadata (12 kB)\n",
      "Requirement already satisfied: python-dateutil in c:\\users\\user\\appdata\\local\\programs\\python\\python312\\lib\\site-packages (from dagshub) (2.9.0.post0)\n",
      "Collecting boto3 (from dagshub)\n",
      "  Downloading boto3-1.35.97-py3-none-any.whl.metadata (6.7 kB)\n",
      "Requirement already satisfied: semver in c:\\users\\user\\appdata\\local\\programs\\python\\python312\\lib\\site-packages (from dagshub) (3.0.2)\n",
      "Collecting dagshub-annotation-converter>=0.1.3 (from dagshub)\n",
      "  Downloading dagshub_annotation_converter-0.1.3-py3-none-any.whl.metadata (2.5 kB)\n",
      "Requirement already satisfied: colorama in c:\\users\\user\\appdata\\local\\programs\\python\\python312\\lib\\site-packages (from click>=8.0.4->dagshub) (0.4.6)\n",
      "Collecting lxml (from dagshub-annotation-converter>=0.1.3->dagshub)\n",
      "  Downloading lxml-5.3.0-cp312-cp312-win_amd64.whl.metadata (3.9 kB)\n",
      "Requirement already satisfied: pillow in c:\\users\\user\\appdata\\local\\programs\\python\\python312\\lib\\site-packages (from dagshub-annotation-converter>=0.1.3->dagshub) (11.1.0)\n",
      "Requirement already satisfied: pydantic>=2.0.0 in c:\\users\\user\\appdata\\local\\programs\\python\\python312\\lib\\site-packages (from dagshub-annotation-converter>=0.1.3->dagshub) (2.10.5)\n",
      "Requirement already satisfied: typing-extensions in c:\\users\\user\\appdata\\local\\programs\\python\\python312\\lib\\site-packages (from dagshub-annotation-converter>=0.1.3->dagshub) (4.12.2)\n",
      "Requirement already satisfied: gitdb<5,>=4.0.1 in c:\\users\\user\\appdata\\local\\programs\\python\\python312\\lib\\site-packages (from GitPython>=3.1.29->dagshub) (4.0.12)\n",
      "Collecting anyio (from httpx>=0.23.0->dagshub)\n",
      "  Downloading anyio-4.8.0-py3-none-any.whl.metadata (4.6 kB)\n",
      "Requirement already satisfied: certifi in c:\\users\\user\\appdata\\local\\programs\\python\\python312\\lib\\site-packages (from httpx>=0.23.0->dagshub) (2024.12.14)\n",
      "Collecting httpcore==1.* (from httpx>=0.23.0->dagshub)\n",
      "  Downloading httpcore-1.0.7-py3-none-any.whl.metadata (21 kB)\n",
      "Requirement already satisfied: idna in c:\\users\\user\\appdata\\local\\programs\\python\\python312\\lib\\site-packages (from httpx>=0.23.0->dagshub) (3.10)\n",
      "Collecting h11<0.15,>=0.13 (from httpcore==1.*->httpx>=0.23.0->dagshub)\n",
      "  Downloading h11-0.14.0-py3-none-any.whl.metadata (8.2 kB)\n",
      "Requirement already satisfied: markdown-it-py>=2.2.0 in c:\\users\\user\\appdata\\local\\programs\\python\\python312\\lib\\site-packages (from rich>=13.1.0->dagshub) (3.0.0)\n",
      "Requirement already satisfied: pygments<3.0.0,>=2.13.0 in c:\\users\\user\\appdata\\local\\programs\\python\\python312\\lib\\site-packages (from rich>=13.1.0->dagshub) (2.19.1)\n",
      "Requirement already satisfied: six in c:\\users\\user\\appdata\\local\\programs\\python\\python312\\lib\\site-packages (from treelib>=1.6.4->dagshub) (1.17.0)\n",
      "Collecting botocore<1.36.0,>=1.35.97 (from boto3->dagshub)\n",
      "  Downloading botocore-1.35.97-py3-none-any.whl.metadata (5.7 kB)\n",
      "Collecting jmespath<2.0.0,>=0.7.1 (from boto3->dagshub)\n",
      "  Downloading jmespath-1.0.1-py3-none-any.whl.metadata (7.6 kB)\n",
      "Collecting s3transfer<0.11.0,>=0.10.0 (from boto3->dagshub)\n",
      "  Downloading s3transfer-0.10.4-py3-none-any.whl.metadata (1.7 kB)\n",
      "Collecting marshmallow<4.0.0,>=3.18.0 (from dataclasses-json->dagshub)\n",
      "  Downloading marshmallow-3.25.1-py3-none-any.whl.metadata (7.3 kB)\n",
      "Collecting typing-inspect<1,>=0.4.0 (from dataclasses-json->dagshub)\n",
      "  Downloading typing_inspect-0.9.0-py3-none-any.whl.metadata (1.5 kB)\n",
      "Requirement already satisfied: graphql-core<3.3,>=3.2 in c:\\users\\user\\appdata\\local\\programs\\python\\python312\\lib\\site-packages (from gql[requests]->dagshub) (3.2.5)\n",
      "Requirement already satisfied: yarl<2.0,>=1.6 in c:\\users\\user\\appdata\\local\\programs\\python\\python312\\lib\\site-packages (from gql[requests]->dagshub) (1.18.3)\n",
      "Collecting backoff<3.0,>=1.11.1 (from gql[requests]->dagshub)\n",
      "  Downloading backoff-2.2.1-py3-none-any.whl.metadata (14 kB)\n",
      "Requirement already satisfied: requests<3,>=2.26 in c:\\users\\user\\appdata\\local\\programs\\python\\python312\\lib\\site-packages (from gql[requests]->dagshub) (2.32.3)\n",
      "Collecting requests-toolbelt<2,>=1.0.0 (from gql[requests]->dagshub)\n",
      "  Downloading requests_toolbelt-1.0.0-py2.py3-none-any.whl.metadata (14 kB)\n",
      "Requirement already satisfied: numpy>=1.26.0 in c:\\users\\user\\appdata\\local\\programs\\python\\python312\\lib\\site-packages (from pandas->dagshub) (2.2.1)\n",
      "Requirement already satisfied: pytz>=2020.1 in c:\\users\\user\\appdata\\local\\programs\\python\\python312\\lib\\site-packages (from pandas->dagshub) (2024.2)\n",
      "Requirement already satisfied: tzdata>=2022.7 in c:\\users\\user\\appdata\\local\\programs\\python\\python312\\lib\\site-packages (from pandas->dagshub) (2024.2)\n",
      "Collecting sniffio>=1.1 (from anyio->httpx>=0.23.0->dagshub)\n",
      "  Downloading sniffio-1.3.1-py3-none-any.whl.metadata (3.9 kB)\n",
      "Requirement already satisfied: urllib3!=2.2.0,<3,>=1.25.4 in c:\\users\\user\\appdata\\local\\programs\\python\\python312\\lib\\site-packages (from botocore<1.36.0,>=1.35.97->boto3->dagshub) (2.3.0)\n",
      "Requirement already satisfied: smmap<6,>=3.0.1 in c:\\users\\user\\appdata\\local\\programs\\python\\python312\\lib\\site-packages (from gitdb<5,>=4.0.1->GitPython>=3.1.29->dagshub) (5.0.2)\n",
      "Requirement already satisfied: mdurl~=0.1 in c:\\users\\user\\appdata\\local\\programs\\python\\python312\\lib\\site-packages (from markdown-it-py>=2.2.0->rich>=13.1.0->dagshub) (0.1.2)\n",
      "Requirement already satisfied: packaging>=17.0 in c:\\users\\user\\appdata\\local\\programs\\python\\python312\\lib\\site-packages (from marshmallow<4.0.0,>=3.18.0->dataclasses-json->dagshub) (24.2)\n",
      "Requirement already satisfied: annotated-types>=0.6.0 in c:\\users\\user\\appdata\\local\\programs\\python\\python312\\lib\\site-packages (from pydantic>=2.0.0->dagshub-annotation-converter>=0.1.3->dagshub) (0.7.0)\n",
      "Requirement already satisfied: pydantic-core==2.27.2 in c:\\users\\user\\appdata\\local\\programs\\python\\python312\\lib\\site-packages (from pydantic>=2.0.0->dagshub-annotation-converter>=0.1.3->dagshub) (2.27.2)\n",
      "Requirement already satisfied: charset-normalizer<4,>=2 in c:\\users\\user\\appdata\\local\\programs\\python\\python312\\lib\\site-packages (from requests<3,>=2.26->gql[requests]->dagshub) (3.4.1)\n",
      "Collecting mypy-extensions>=0.3.0 (from typing-inspect<1,>=0.4.0->dataclasses-json->dagshub)\n",
      "  Downloading mypy_extensions-1.0.0-py3-none-any.whl.metadata (1.1 kB)\n",
      "Requirement already satisfied: multidict>=4.0 in c:\\users\\user\\appdata\\local\\programs\\python\\python312\\lib\\site-packages (from yarl<2.0,>=1.6->gql[requests]->dagshub) (6.1.0)\n",
      "Requirement already satisfied: propcache>=0.2.0 in c:\\users\\user\\appdata\\local\\programs\\python\\python312\\lib\\site-packages (from yarl<2.0,>=1.6->gql[requests]->dagshub) (0.2.1)\n",
      "Downloading dagshub-0.5.1-py3-none-any.whl (258 kB)\n",
      "Downloading dacite-1.6.0-py3-none-any.whl (12 kB)\n",
      "Downloading dagshub_annotation_converter-0.1.3-py3-none-any.whl (33 kB)\n",
      "Downloading httpx-0.28.1-py3-none-any.whl (73 kB)\n",
      "Downloading httpcore-1.0.7-py3-none-any.whl (78 kB)\n",
      "Downloading pathvalidate-3.2.3-py3-none-any.whl (24 kB)\n",
      "Downloading tenacity-9.0.0-py3-none-any.whl (28 kB)\n",
      "Downloading treelib-1.7.0-py3-none-any.whl (18 kB)\n",
      "Downloading boto3-1.35.97-py3-none-any.whl (139 kB)\n",
      "Downloading dataclasses_json-0.6.7-py3-none-any.whl (28 kB)\n",
      "Downloading anyio-4.8.0-py3-none-any.whl (96 kB)\n",
      "Downloading backoff-2.2.1-py3-none-any.whl (15 kB)\n",
      "Downloading botocore-1.35.97-py3-none-any.whl (13.3 MB)\n",
      "   ---------------------------------------- 0.0/13.3 MB ? eta -:--:--\n",
      "   ---------------------------------------- 0.0/13.3 MB ? eta -:--:--\n",
      "   ---------------------------------------- 0.0/13.3 MB ? eta -:--:--\n",
      "   ---------------------------------------- 0.0/13.3 MB ? eta -:--:--\n",
      "    --------------------------------------- 0.3/13.3 MB ? eta -:--:--\n",
      "    --------------------------------------- 0.3/13.3 MB ? eta -:--:--\n",
      "    --------------------------------------- 0.3/13.3 MB ? eta -:--:--\n",
      "   - -------------------------------------- 0.5/13.3 MB 342.7 kB/s eta 0:00:38\n",
      "   - -------------------------------------- 0.5/13.3 MB 342.7 kB/s eta 0:00:38\n",
      "   -- ------------------------------------- 0.8/13.3 MB 441.7 kB/s eta 0:00:29\n",
      "   -- ------------------------------------- 0.8/13.3 MB 441.7 kB/s eta 0:00:29\n",
      "   -- ------------------------------------- 0.8/13.3 MB 441.7 kB/s eta 0:00:29\n",
      "   -- ------------------------------------- 0.8/13.3 MB 441.7 kB/s eta 0:00:29\n",
      "   -- ------------------------------------- 0.8/13.3 MB 441.7 kB/s eta 0:00:29\n",
      "   --- ------------------------------------ 1.0/13.3 MB 362.1 kB/s eta 0:00:34\n",
      "   --- ------------------------------------ 1.0/13.3 MB 362.1 kB/s eta 0:00:34\n",
      "   --- ------------------------------------ 1.0/13.3 MB 362.1 kB/s eta 0:00:34\n",
      "   --- ------------------------------------ 1.3/13.3 MB 368.7 kB/s eta 0:00:33\n",
      "   --- ------------------------------------ 1.3/13.3 MB 368.7 kB/s eta 0:00:33\n",
      "   --- ------------------------------------ 1.3/13.3 MB 368.7 kB/s eta 0:00:33\n",
      "   ---- ----------------------------------- 1.6/13.3 MB 372.9 kB/s eta 0:00:32\n",
      "   ---- ----------------------------------- 1.6/13.3 MB 372.9 kB/s eta 0:00:32\n",
      "   ---- ----------------------------------- 1.6/13.3 MB 372.9 kB/s eta 0:00:32\n",
      "   ----- ---------------------------------- 1.8/13.3 MB 388.6 kB/s eta 0:00:30\n",
      "   ----- ---------------------------------- 1.8/13.3 MB 388.6 kB/s eta 0:00:30\n",
      "   ----- ---------------------------------- 1.8/13.3 MB 388.6 kB/s eta 0:00:30\n",
      "   ------ --------------------------------- 2.1/13.3 MB 386.3 kB/s eta 0:00:29\n",
      "   ------ --------------------------------- 2.1/13.3 MB 386.3 kB/s eta 0:00:29\n",
      "   ------ --------------------------------- 2.1/13.3 MB 386.3 kB/s eta 0:00:29\n",
      "   ------- -------------------------------- 2.4/13.3 MB 387.9 kB/s eta 0:00:29\n",
      "   ------- -------------------------------- 2.4/13.3 MB 387.9 kB/s eta 0:00:29\n",
      "   ------- -------------------------------- 2.6/13.3 MB 413.7 kB/s eta 0:00:26\n",
      "   ------- -------------------------------- 2.6/13.3 MB 413.7 kB/s eta 0:00:26\n",
      "   ------- -------------------------------- 2.6/13.3 MB 413.7 kB/s eta 0:00:26\n",
      "   -------- ------------------------------- 2.9/13.3 MB 406.2 kB/s eta 0:00:26\n",
      "   -------- ------------------------------- 2.9/13.3 MB 406.2 kB/s eta 0:00:26\n",
      "   -------- ------------------------------- 2.9/13.3 MB 406.2 kB/s eta 0:00:26\n",
      "   -------- ------------------------------- 2.9/13.3 MB 406.2 kB/s eta 0:00:26\n",
      "   --------- ------------------------------ 3.1/13.3 MB 402.1 kB/s eta 0:00:26\n",
      "   --------- ------------------------------ 3.1/13.3 MB 402.1 kB/s eta 0:00:26\n",
      "   --------- ------------------------------ 3.1/13.3 MB 402.1 kB/s eta 0:00:26\n",
      "   --------- ------------------------------ 3.1/13.3 MB 402.1 kB/s eta 0:00:26\n",
      "   ---------- ----------------------------- 3.4/13.3 MB 392.5 kB/s eta 0:00:26\n",
      "   ---------- ----------------------------- 3.4/13.3 MB 392.5 kB/s eta 0:00:26\n",
      "   ---------- ----------------------------- 3.4/13.3 MB 392.5 kB/s eta 0:00:26\n",
      "   ----------- ---------------------------- 3.7/13.3 MB 389.5 kB/s eta 0:00:25\n",
      "   ----------- ---------------------------- 3.7/13.3 MB 389.5 kB/s eta 0:00:25\n",
      "   ----------- ---------------------------- 3.7/13.3 MB 389.5 kB/s eta 0:00:25\n",
      "   ----------- ---------------------------- 3.7/13.3 MB 389.5 kB/s eta 0:00:25\n",
      "   ----------- ---------------------------- 3.9/13.3 MB 385.7 kB/s eta 0:00:25\n",
      "   ----------- ---------------------------- 3.9/13.3 MB 385.7 kB/s eta 0:00:25\n",
      "   ------------ --------------------------- 4.2/13.3 MB 393.2 kB/s eta 0:00:24\n",
      "   ------------- -------------------------- 4.5/13.3 MB 406.7 kB/s eta 0:00:22\n",
      "   ------------- -------------------------- 4.5/13.3 MB 406.7 kB/s eta 0:00:22\n",
      "   ------------- -------------------------- 4.5/13.3 MB 406.7 kB/s eta 0:00:22\n",
      "   -------------- ------------------------- 4.7/13.3 MB 412.7 kB/s eta 0:00:21\n",
      "   -------------- ------------------------- 4.7/13.3 MB 412.7 kB/s eta 0:00:21\n",
      "   -------------- ------------------------- 5.0/13.3 MB 417.7 kB/s eta 0:00:20\n",
      "   -------------- ------------------------- 5.0/13.3 MB 417.7 kB/s eta 0:00:20\n",
      "   -------------- ------------------------- 5.0/13.3 MB 417.7 kB/s eta 0:00:20\n",
      "   --------------- ------------------------ 5.2/13.3 MB 415.6 kB/s eta 0:00:20\n",
      "   --------------- ------------------------ 5.2/13.3 MB 415.6 kB/s eta 0:00:20\n",
      "   ---------------- ----------------------- 5.5/13.3 MB 420.5 kB/s eta 0:00:19\n",
      "   ---------------- ----------------------- 5.5/13.3 MB 420.5 kB/s eta 0:00:19\n",
      "   ---------------- ----------------------- 5.5/13.3 MB 420.5 kB/s eta 0:00:19\n",
      "   ----------------- ---------------------- 5.8/13.3 MB 423.5 kB/s eta 0:00:18\n",
      "   ----------------- ---------------------- 5.8/13.3 MB 423.5 kB/s eta 0:00:18\n",
      "   ----------------- ---------------------- 5.8/13.3 MB 423.5 kB/s eta 0:00:18\n",
      "   ------------------ --------------------- 6.0/13.3 MB 419.9 kB/s eta 0:00:18\n",
      "   ------------------ --------------------- 6.0/13.3 MB 419.9 kB/s eta 0:00:18\n",
      "   ------------------ --------------------- 6.0/13.3 MB 419.9 kB/s eta 0:00:18\n",
      "   ------------------ --------------------- 6.3/13.3 MB 419.9 kB/s eta 0:00:17\n",
      "   ------------------ --------------------- 6.3/13.3 MB 419.9 kB/s eta 0:00:17\n",
      "   ------------------ --------------------- 6.3/13.3 MB 419.9 kB/s eta 0:00:17\n",
      "   ------------------- -------------------- 6.6/13.3 MB 421.6 kB/s eta 0:00:16\n",
      "   ------------------- -------------------- 6.6/13.3 MB 421.6 kB/s eta 0:00:16\n",
      "   ------------------- -------------------- 6.6/13.3 MB 421.6 kB/s eta 0:00:16\n",
      "   -------------------- ------------------- 6.8/13.3 MB 422.0 kB/s eta 0:00:16\n",
      "   -------------------- ------------------- 6.8/13.3 MB 422.0 kB/s eta 0:00:16\n",
      "   -------------------- ------------------- 6.8/13.3 MB 422.0 kB/s eta 0:00:16\n",
      "   -------------------- ------------------- 6.8/13.3 MB 422.0 kB/s eta 0:00:16\n",
      "   --------------------- ------------------ 7.1/13.3 MB 416.6 kB/s eta 0:00:15\n",
      "   --------------------- ------------------ 7.1/13.3 MB 416.6 kB/s eta 0:00:15\n",
      "   --------------------- ------------------ 7.1/13.3 MB 416.6 kB/s eta 0:00:15\n",
      "   ---------------------- ----------------- 7.3/13.3 MB 416.3 kB/s eta 0:00:15\n",
      "   ---------------------- ----------------- 7.3/13.3 MB 416.3 kB/s eta 0:00:15\n",
      "   ---------------------- ----------------- 7.3/13.3 MB 416.3 kB/s eta 0:00:15\n",
      "   ---------------------- ----------------- 7.3/13.3 MB 416.3 kB/s eta 0:00:15\n",
      "   ---------------------- ----------------- 7.3/13.3 MB 416.3 kB/s eta 0:00:15\n",
      "   ---------------------- ----------------- 7.6/13.3 MB 408.1 kB/s eta 0:00:14\n",
      "   ---------------------- ----------------- 7.6/13.3 MB 408.1 kB/s eta 0:00:14\n",
      "   ---------------------- ----------------- 7.6/13.3 MB 408.1 kB/s eta 0:00:14\n",
      "   ----------------------- ---------------- 7.9/13.3 MB 405.8 kB/s eta 0:00:14\n",
      "   ----------------------- ---------------- 7.9/13.3 MB 405.8 kB/s eta 0:00:14\n",
      "   ----------------------- ---------------- 7.9/13.3 MB 405.8 kB/s eta 0:00:14\n",
      "   ----------------------- ---------------- 7.9/13.3 MB 405.8 kB/s eta 0:00:14\n",
      "   ----------------------- ---------------- 7.9/13.3 MB 405.8 kB/s eta 0:00:14\n",
      "   ------------------------ --------------- 8.1/13.3 MB 398.8 kB/s eta 0:00:13\n",
      "   ------------------------ --------------- 8.1/13.3 MB 398.8 kB/s eta 0:00:13\n",
      "   ------------------------ --------------- 8.1/13.3 MB 398.8 kB/s eta 0:00:13\n",
      "   ------------------------- -------------- 8.4/13.3 MB 397.9 kB/s eta 0:00:13\n",
      "   ------------------------- -------------- 8.4/13.3 MB 397.9 kB/s eta 0:00:13\n",
      "   ------------------------- -------------- 8.4/13.3 MB 397.9 kB/s eta 0:00:13\n",
      "   -------------------------- ------------- 8.7/13.3 MB 398.9 kB/s eta 0:00:12\n",
      "   -------------------------- ------------- 8.7/13.3 MB 398.9 kB/s eta 0:00:12\n",
      "   -------------------------- ------------- 8.9/13.3 MB 400.9 kB/s eta 0:00:11\n",
      "   -------------------------- ------------- 8.9/13.3 MB 400.9 kB/s eta 0:00:11\n",
      "   --------------------------- ------------ 9.2/13.3 MB 407.2 kB/s eta 0:00:11\n",
      "   --------------------------- ------------ 9.2/13.3 MB 407.2 kB/s eta 0:00:11\n",
      "   ---------------------------- ----------- 9.4/13.3 MB 410.1 kB/s eta 0:00:10\n",
      "   ---------------------------- ----------- 9.4/13.3 MB 410.1 kB/s eta 0:00:10\n",
      "   ----------------------------- ---------- 9.7/13.3 MB 414.5 kB/s eta 0:00:09\n",
      "   ----------------------------- ---------- 9.7/13.3 MB 414.5 kB/s eta 0:00:09\n",
      "   ----------------------------- ---------- 10.0/13.3 MB 418.6 kB/s eta 0:00:08\n",
      "   ----------------------------- ---------- 10.0/13.3 MB 418.6 kB/s eta 0:00:08\n",
      "   ----------------------------- ---------- 10.0/13.3 MB 418.6 kB/s eta 0:00:08\n",
      "   ----------------------------- ---------- 10.0/13.3 MB 418.6 kB/s eta 0:00:08\n",
      "   ------------------------------ --------- 10.2/13.3 MB 415.3 kB/s eta 0:00:08\n",
      "   ------------------------------ --------- 10.2/13.3 MB 415.3 kB/s eta 0:00:08\n",
      "   ------------------------------- -------- 10.5/13.3 MB 416.5 kB/s eta 0:00:07\n",
      "   ------------------------------- -------- 10.5/13.3 MB 416.5 kB/s eta 0:00:07\n",
      "   ------------------------------- -------- 10.5/13.3 MB 416.5 kB/s eta 0:00:07\n",
      "   -------------------------------- ------- 10.7/13.3 MB 417.6 kB/s eta 0:00:07\n",
      "   -------------------------------- ------- 10.7/13.3 MB 417.6 kB/s eta 0:00:07\n",
      "   -------------------------------- ------- 10.7/13.3 MB 417.6 kB/s eta 0:00:07\n",
      "   --------------------------------- ------ 11.0/13.3 MB 419.2 kB/s eta 0:00:06\n",
      "   --------------------------------- ------ 11.0/13.3 MB 419.2 kB/s eta 0:00:06\n",
      "   --------------------------------- ------ 11.0/13.3 MB 419.2 kB/s eta 0:00:06\n",
      "   --------------------------------- ------ 11.3/13.3 MB 418.2 kB/s eta 0:00:05\n",
      "   --------------------------------- ------ 11.3/13.3 MB 418.2 kB/s eta 0:00:05\n",
      "   ---------------------------------- ----- 11.5/13.3 MB 421.9 kB/s eta 0:00:05\n",
      "   ---------------------------------- ----- 11.5/13.3 MB 421.9 kB/s eta 0:00:05\n",
      "   ----------------------------------- ---- 11.8/13.3 MB 425.2 kB/s eta 0:00:04\n",
      "   ------------------------------------ --- 12.1/13.3 MB 429.9 kB/s eta 0:00:03\n",
      "   ------------------------------------ --- 12.1/13.3 MB 429.9 kB/s eta 0:00:03\n",
      "   ------------------------------------- -- 12.3/13.3 MB 433.3 kB/s eta 0:00:03\n",
      "   ------------------------------------- -- 12.3/13.3 MB 433.3 kB/s eta 0:00:03\n",
      "   ------------------------------------- -- 12.3/13.3 MB 433.3 kB/s eta 0:00:03\n",
      "   ------------------------------------- -- 12.3/13.3 MB 433.3 kB/s eta 0:00:03\n",
      "   ------------------------------------- -- 12.6/13.3 MB 429.7 kB/s eta 0:00:02\n",
      "   -------------------------------------- - 12.8/13.3 MB 433.4 kB/s eta 0:00:02\n",
      "   -------------------------------------- - 12.8/13.3 MB 433.4 kB/s eta 0:00:02\n",
      "   ---------------------------------------  13.1/13.3 MB 435.9 kB/s eta 0:00:01\n",
      "   ---------------------------------------  13.1/13.3 MB 435.9 kB/s eta 0:00:01\n",
      "   ---------------------------------------- 13.3/13.3 MB 437.9 kB/s eta 0:00:00\n",
      "Downloading jmespath-1.0.1-py3-none-any.whl (20 kB)\n",
      "Downloading marshmallow-3.25.1-py3-none-any.whl (49 kB)\n",
      "Downloading requests_toolbelt-1.0.0-py2.py3-none-any.whl (54 kB)\n",
      "Downloading s3transfer-0.10.4-py3-none-any.whl (83 kB)\n",
      "Downloading typing_inspect-0.9.0-py3-none-any.whl (8.8 kB)\n",
      "Downloading gql-3.5.0-py2.py3-none-any.whl (74 kB)\n",
      "Downloading lxml-5.3.0-cp312-cp312-win_amd64.whl (3.8 MB)\n",
      "   ---------------------------------------- 0.0/3.8 MB ? eta -:--:--\n",
      "   ---------------------------------------- 0.0/3.8 MB ? eta -:--:--\n",
      "   ---------------------------------------- 0.0/3.8 MB ? eta -:--:--\n",
      "   ---------------------------------------- 0.0/3.8 MB ? eta -:--:--\n",
      "   -- ------------------------------------- 0.3/3.8 MB ? eta -:--:--\n",
      "   -- ------------------------------------- 0.3/3.8 MB ? eta -:--:--\n",
      "   -- ------------------------------------- 0.3/3.8 MB ? eta -:--:--\n",
      "   ----- ---------------------------------- 0.5/3.8 MB 381.6 kB/s eta 0:00:09\n",
      "   ----- ---------------------------------- 0.5/3.8 MB 381.6 kB/s eta 0:00:09\n",
      "   ----- ---------------------------------- 0.5/3.8 MB 381.6 kB/s eta 0:00:09\n",
      "   -------- ------------------------------- 0.8/3.8 MB 414.5 kB/s eta 0:00:08\n",
      "   -------- ------------------------------- 0.8/3.8 MB 414.5 kB/s eta 0:00:08\n",
      "   -------- ------------------------------- 0.8/3.8 MB 414.5 kB/s eta 0:00:08\n",
      "   ---------- ----------------------------- 1.0/3.8 MB 384.2 kB/s eta 0:00:08\n",
      "   ---------- ----------------------------- 1.0/3.8 MB 384.2 kB/s eta 0:00:08\n",
      "   ---------- ----------------------------- 1.0/3.8 MB 384.2 kB/s eta 0:00:08\n",
      "   ---------- ----------------------------- 1.0/3.8 MB 384.2 kB/s eta 0:00:08\n",
      "   ------------- -------------------------- 1.3/3.8 MB 364.7 kB/s eta 0:00:07\n",
      "   ------------- -------------------------- 1.3/3.8 MB 364.7 kB/s eta 0:00:07\n",
      "   ---------------- ----------------------- 1.6/3.8 MB 405.3 kB/s eta 0:00:06\n",
      "   ---------------- ----------------------- 1.6/3.8 MB 405.3 kB/s eta 0:00:06\n",
      "   ---------------- ----------------------- 1.6/3.8 MB 405.3 kB/s eta 0:00:06\n",
      "   ---------------- ----------------------- 1.6/3.8 MB 405.3 kB/s eta 0:00:06\n",
      "   ------------------- -------------------- 1.8/3.8 MB 381.3 kB/s eta 0:00:06\n",
      "   ------------------- -------------------- 1.8/3.8 MB 381.3 kB/s eta 0:00:06\n",
      "   ------------------- -------------------- 1.8/3.8 MB 381.3 kB/s eta 0:00:06\n",
      "   ------------------- -------------------- 1.8/3.8 MB 381.3 kB/s eta 0:00:06\n",
      "   ------------------- -------------------- 1.8/3.8 MB 381.3 kB/s eta 0:00:06\n",
      "   --------------------- ------------------ 2.1/3.8 MB 359.2 kB/s eta 0:00:05\n",
      "   --------------------- ------------------ 2.1/3.8 MB 359.2 kB/s eta 0:00:05\n",
      "   ------------------------ --------------- 2.4/3.8 MB 372.8 kB/s eta 0:00:04\n",
      "   ------------------------ --------------- 2.4/3.8 MB 372.8 kB/s eta 0:00:04\n",
      "   --------------------------- ------------ 2.6/3.8 MB 398.4 kB/s eta 0:00:04\n",
      "   --------------------------- ------------ 2.6/3.8 MB 398.4 kB/s eta 0:00:04\n",
      "   ------------------------------ --------- 2.9/3.8 MB 406.2 kB/s eta 0:00:03\n",
      "   -------------------------------- ------- 3.1/3.8 MB 431.2 kB/s eta 0:00:02\n",
      "   ----------------------------------- ---- 3.4/3.8 MB 454.5 kB/s eta 0:00:01\n",
      "   ----------------------------------- ---- 3.4/3.8 MB 454.5 kB/s eta 0:00:01\n",
      "   -------------------------------------- - 3.7/3.8 MB 469.1 kB/s eta 0:00:01\n",
      "   ---------------------------------------- 3.8/3.8 MB 470.1 kB/s eta 0:00:00\n",
      "Downloading h11-0.14.0-py3-none-any.whl (58 kB)\n",
      "Downloading mypy_extensions-1.0.0-py3-none-any.whl (4.7 kB)\n",
      "Downloading sniffio-1.3.1-py3-none-any.whl (10 kB)\n",
      "Installing collected packages: treelib, tenacity, sniffio, pathvalidate, mypy-extensions, marshmallow, lxml, jmespath, h11, dacite, backoff, typing-inspect, requests-toolbelt, httpcore, botocore, anyio, s3transfer, httpx, gql, dataclasses-json, dagshub-annotation-converter, boto3, dagshub\n",
      "Successfully installed anyio-4.8.0 backoff-2.2.1 boto3-1.35.97 botocore-1.35.97 dacite-1.6.0 dagshub-0.5.1 dagshub-annotation-converter-0.1.3 dataclasses-json-0.6.7 gql-3.5.0 h11-0.14.0 httpcore-1.0.7 httpx-0.28.1 jmespath-1.0.1 lxml-5.3.0 marshmallow-3.25.1 mypy-extensions-1.0.0 pathvalidate-3.2.3 requests-toolbelt-1.0.0 s3transfer-0.10.4 sniffio-1.3.1 tenacity-9.0.0 treelib-1.7.0 typing-inspect-0.9.0\n"
     ]
    }
   ],
   "source": [
    "pip install dagshub"
   ]
  },
  {
   "cell_type": "code",
   "execution_count": 10,
   "metadata": {},
   "outputs": [
    {
     "data": {
      "text/html": [
       "<pre style=\"white-space:pre;overflow-x:auto;line-height:normal;font-family:Menlo,'DejaVu Sans Mono',consolas,'Courier New',monospace\">                                       <span style=\"font-weight: bold\">❗❗❗ AUTHORIZATION REQUIRED ❗❗❗</span>                                        \n",
       "</pre>\n"
      ],
      "text/plain": [
       "                                       \u001b[1m❗❗❗ AUTHORIZATION REQUIRED ❗❗❗\u001b[0m                                        \n"
      ]
     },
     "metadata": {},
     "output_type": "display_data"
    },
    {
     "name": "stdout",
     "output_type": "stream",
     "text": [
      "\n",
      "\n",
      "Open the following link in your browser to authorize the client:\n",
      "https://dagshub.com/login/oauth/authorize?state=5b2d709d-31d8-4e3e-be87-f284b606dfa0&client_id=32b60ba385aa7cecf24046d8195a71c07dd345d9657977863b52e7748e0f0f28&middleman_request_id=253d952f37dbf9a28836f4de82214effccf83600b6753910a74395d69838f9da\n",
      "\n",
      "\n"
     ]
    },
    {
     "data": {
      "text/html": [
       "<pre style=\"white-space:pre;overflow-x:auto;line-height:normal;font-family:Menlo,'DejaVu Sans Mono',consolas,'Courier New',monospace\"></pre>\n"
      ],
      "text/plain": []
     },
     "metadata": {},
     "output_type": "display_data"
    },
    {
     "data": {
      "text/html": [
       "<pre style=\"white-space:pre;overflow-x:auto;line-height:normal;font-family:Menlo,'DejaVu Sans Mono',consolas,'Courier New',monospace\">Accessing as afaf1204\n",
       "</pre>\n"
      ],
      "text/plain": [
       "Accessing as afaf1204\n"
      ]
     },
     "metadata": {},
     "output_type": "display_data"
    },
    {
     "data": {
      "text/html": [
       "<pre style=\"white-space:pre;overflow-x:auto;line-height:normal;font-family:Menlo,'DejaVu Sans Mono',consolas,'Courier New',monospace\">Initialized MLflow to track repo <span style=\"color: #008000; text-decoration-color: #008000\">\"afaf1204/mlops\"</span>\n",
       "</pre>\n"
      ],
      "text/plain": [
       "Initialized MLflow to track repo \u001b[32m\"afaf1204/mlops\"\u001b[0m\n"
      ]
     },
     "metadata": {},
     "output_type": "display_data"
    },
    {
     "data": {
      "text/html": [
       "<pre style=\"white-space:pre;overflow-x:auto;line-height:normal;font-family:Menlo,'DejaVu Sans Mono',consolas,'Courier New',monospace\">Repository afaf1204/mlops initialized!\n",
       "</pre>\n"
      ],
      "text/plain": [
       "Repository afaf1204/mlops initialized!\n"
      ]
     },
     "metadata": {},
     "output_type": "display_data"
    }
   ],
   "source": [
    "# dagshub setup\n",
    "\n",
    "import dagshub\n",
    "dagshub.init(repo_owner='afaf1204', repo_name='mlops', mlflow=True)"
   ]
  },
  {
   "cell_type": "code",
   "execution_count": 13,
   "metadata": {},
   "outputs": [
    {
     "name": "stderr",
     "output_type": "stream",
     "text": [
      "2025/01/12 20:25:58 INFO mlflow.tracking.fluent: Experiment with name 'Anomaly Detection' does not exist. Creating a new experiment.\n",
      "2025/01/12 20:26:03 WARNING mlflow.models.model: Model logged without a signature and input example. Please set `input_example` parameter when logging the model to auto infer the model signature.\n"
     ]
    },
    {
     "name": "stdout",
     "output_type": "stream",
     "text": [
      "🏃 View run Logistic Regression at: https://dagshub.com/afaf1204/mlops.mlflow/#/experiments/0/runs/cc7fe6e77ead4375aed2d2e6aa5b5f34\n",
      "🧪 View experiment at: https://dagshub.com/afaf1204/mlops.mlflow/#/experiments/0\n"
     ]
    },
    {
     "name": "stderr",
     "output_type": "stream",
     "text": [
      "2025/01/12 20:26:10 WARNING mlflow.models.model: Model logged without a signature and input example. Please set `input_example` parameter when logging the model to auto infer the model signature.\n"
     ]
    },
    {
     "name": "stdout",
     "output_type": "stream",
     "text": [
      "🏃 View run Random Forest at: https://dagshub.com/afaf1204/mlops.mlflow/#/experiments/0/runs/5de53672cdbd4ff1b4978c4e15e8e5be\n",
      "🧪 View experiment at: https://dagshub.com/afaf1204/mlops.mlflow/#/experiments/0\n"
     ]
    },
    {
     "name": "stderr",
     "output_type": "stream",
     "text": [
      "2025/01/12 20:26:18 WARNING mlflow.utils.environment: Encountered an unexpected error while inferring pip requirements (model URI: C:\\Users\\USER\\AppData\\Local\\Temp\\tmp14ohq5dh\\model, flavor: xgboost). Fall back to return ['xgboost==2.1.3']. Set logging level to DEBUG to see the full traceback. \n",
      "2025/01/12 20:26:18 WARNING mlflow.models.model: Model logged without a signature and input example. Please set `input_example` parameter when logging the model to auto infer the model signature.\n"
     ]
    },
    {
     "name": "stdout",
     "output_type": "stream",
     "text": [
      "🏃 View run XGBClassifier at: https://dagshub.com/afaf1204/mlops.mlflow/#/experiments/0/runs/0442d0ec439d4d5a8d6719495ec3dd12\n",
      "🧪 View experiment at: https://dagshub.com/afaf1204/mlops.mlflow/#/experiments/0\n"
     ]
    },
    {
     "name": "stderr",
     "output_type": "stream",
     "text": [
      "2025/01/12 20:26:30 WARNING mlflow.utils.environment: Encountered an unexpected error while inferring pip requirements (model URI: C:\\Users\\USER\\AppData\\Local\\Temp\\tmpm_z77l17\\model, flavor: xgboost). Fall back to return ['xgboost==2.1.3']. Set logging level to DEBUG to see the full traceback. \n",
      "2025/01/12 20:26:30 WARNING mlflow.models.model: Model logged without a signature and input example. Please set `input_example` parameter when logging the model to auto infer the model signature.\n"
     ]
    },
    {
     "name": "stdout",
     "output_type": "stream",
     "text": [
      "🏃 View run XGBClassifier With SMOTE at: https://dagshub.com/afaf1204/mlops.mlflow/#/experiments/0/runs/0a0bdc4ca7f3473e8c05cba68967bb4e\n",
      "🧪 View experiment at: https://dagshub.com/afaf1204/mlops.mlflow/#/experiments/0\n"
     ]
    }
   ],
   "source": [
    "# Ideally you will not require following 4 lines if you have started fresh and do not have any previous dagshub credentials on your computer\n",
    "import os\n",
    "os.environ['MLFLOW_TRACKING_USERNAME'] = 'afaf1204' # 'afaf1204'\n",
    "os.environ['MLFLOW_TRACKING_PASSWORD'] = 'your password' # \n",
    "os.environ['MLFLOW_TRACKING_URI'] = 'https://dagshub.com/afaf1204/mlops.mlflow' # https://dagshub.com/afaf1204/mlops\n",
    "\n",
    "# Initialize MLflow\n",
    "mlflow.set_experiment(\"Anomaly Detection\")\n",
    "# mlflow.set_tracking_uri(\"http://localhost:5000\")\n",
    "\n",
    "for i, element in enumerate(models):\n",
    "    model_name = element[0]\n",
    "    params = element[1]\n",
    "    model = element[2]\n",
    "    report = reports[i]\n",
    "    \n",
    "    with mlflow.start_run(run_name=model_name):        \n",
    "        mlflow.log_params(params)\n",
    "        mlflow.log_metrics({\n",
    "            'accuracy': report['accuracy'],\n",
    "            'recall_class_1': report['1']['recall'],\n",
    "            'recall_class_0': report['0']['recall'],\n",
    "            'f1_score_macro': report['macro avg']['f1-score']\n",
    "        })  \n",
    "        \n",
    "        if \"XGB\" in model_name:\n",
    "            mlflow.xgboost.log_model(model, \"model\")\n",
    "        else:\n",
    "            mlflow.sklearn.log_model(model, \"model\")  "
   ]
  }
 ],
 "metadata": {
  "kernelspec": {
   "display_name": "Python 3",
   "language": "python",
   "name": "python3"
  },
  "language_info": {
   "codemirror_mode": {
    "name": "ipython",
    "version": 3
   },
   "file_extension": ".py",
   "mimetype": "text/x-python",
   "name": "python",
   "nbconvert_exporter": "python",
   "pygments_lexer": "ipython3",
   "version": "3.12.8"
  }
 },
 "nbformat": 4,
 "nbformat_minor": 2
}
